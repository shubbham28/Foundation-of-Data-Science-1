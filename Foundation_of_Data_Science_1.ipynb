{
 "cells": [
  {
   "cell_type": "code",
   "execution_count": 1,
   "metadata": {
    "ExecuteTime": {
     "end_time": "2020-09-30T13:39:46.578076Z",
     "start_time": "2020-09-30T13:39:46.574165Z"
    }
   },
   "outputs": [],
   "source": [
    "import os\n",
    "import numpy as np\n",
    "import pandas as pd\n",
    "import matplotlib.pyplot as plt\n",
    "from sklearn.model_selection import train_test_split\n",
    "from sklearn.model_selection import cross_val_score\n",
    "from sklearn.metrics import confusion_matrix, accuracy_score, classification_report\n",
    "from sklearn.preprocessing import normalize\n",
    "from imblearn.over_sampling import SMOTE\n",
    "from sklearn.svm import SVC\n",
    "from sklearn.ensemble import RandomForestClassifier\n",
    "from sklearn.neighbors import KNeighborsClassifier\n",
    "from sklearn.tree import DecisionTreeClassifier"
   ]
  },
  {
   "cell_type": "markdown",
   "metadata": {},
   "source": [
    "# SVC"
   ]
  },
  {
   "cell_type": "code",
   "execution_count": 2,
   "metadata": {
    "ExecuteTime": {
     "end_time": "2020-09-30T13:24:47.105507Z",
     "start_time": "2020-09-30T13:24:45.976511Z"
    },
    "code_folding": [],
    "scrolled": true
   },
   "outputs": [
    {
     "name": "stdout",
     "output_type": "stream",
     "text": [
      "\n",
      "Accuracy mean: 0.923913043478261\n",
      "Accuracy variance: 0.061658108365746825\n",
      "Accuracy max: 1.0\n",
      "Accuracy min: 0.7916666666666666\n",
      "\n",
      "accuracy_score : 0.9655172413793099\n",
      "\n",
      "classification report :\n",
      "               precision    recall  f1-score   support\n",
      "\n",
      "           0       1.00      0.91      0.95        45\n",
      "           1       0.95      1.00      0.97        71\n",
      "\n",
      "    accuracy                           0.97       116\n",
      "   macro avg       0.97      0.96      0.96       116\n",
      "weighted avg       0.97      0.97      0.97       116\n",
      "\n",
      "[[41  4]\n",
      " [ 0 71]]\n"
     ]
    }
   ],
   "source": [
    "#=====Data Reading=====#\n",
    "dir_path = os.path.dirname(os.path.abspath(\"__file__\"))\n",
    "df = pd.read_csv(dir_path + '/ionosphere.data', header = None)\n",
    "\n",
    "#=====Data Processing=====#\n",
    "# Recategorize the classification labels into a binary classifier\n",
    "categ = {\"g\" : 1, \"b\" : 0}\n",
    "df[34] = [categ[item] for item in df[34]]\n",
    "labels = df[34]\n",
    "inputs = df.drop([34],axis=1)\n",
    "\n",
    "# Seperate data into a training/test set\n",
    "input_train, input_test, output_train, output_test = train_test_split(inputs, labels, test_size=0.33, random_state=42)\n",
    "\n",
    "#Class Balancing\n",
    "sm = SMOTE(random_state = 27, sampling_strategy = 1.0)\n",
    "input_train_res, output_train_res = sm.fit_sample(input_train, output_train.ravel())\n",
    "\n",
    "#=====Machine Learning Architecture=====#\n",
    "model = SVC(kernel='rbf',gamma='scale',C=1.0)\n",
    "hist = model.fit(input_train_res,output_train_res)\n",
    "\n",
    "#=====Validation of ML Model=====#\n",
    "accuracies = cross_val_score(estimator = model, X = input_train, y = output_train, cv = 10, n_jobs = -1)\n",
    "mean = accuracies.mean()\n",
    "variance = accuracies.std()\n",
    "maxacc= accuracies.max()\n",
    "minacc=accuracies.min()\n",
    "print(\"\\nAccuracy mean: \"+ str(mean))\n",
    "print(\"Accuracy variance: \"+ str(variance))\n",
    "print(\"Accuracy max: \"+ str(maxacc))\n",
    "print(\"Accuracy min: \"+ str(minacc))\n",
    "\n",
    "#=====Analysis of ML Model=====#\n",
    "acc=0.0\n",
    "for i in range(25):\n",
    "    predictions = model.predict(input_test)\n",
    "    acc=acc+accuracy_score(output_test, predictions)\n",
    "print (\"\\naccuracy_score :\",acc/25)\n",
    "    \n",
    "# Skill Score Matrix\n",
    "print (\"\\nclassification report :\\n\",(classification_report(output_test, predictions)))\n",
    "#Confusion Matrix\n",
    "print(confusion_matrix(output_test,predictions))\n"
   ]
  },
  {
   "cell_type": "markdown",
   "metadata": {},
   "source": [
    "# RFC"
   ]
  },
  {
   "cell_type": "code",
   "execution_count": 3,
   "metadata": {
    "ExecuteTime": {
     "end_time": "2020-09-30T13:31:50.986249Z",
     "start_time": "2020-09-30T13:31:49.867155Z"
    },
    "code_folding": []
   },
   "outputs": [
    {
     "name": "stdout",
     "output_type": "stream",
     "text": [
      "\n",
      "Accuracy mean: 0.9278985507246377\n",
      "Accuracy variance: 0.049980304879686514\n",
      "Accuracy max: 1.0\n",
      "Accuracy min: 0.8333333333333334\n",
      "\n",
      "accuracy_score : 0.9482758620689655\n",
      "\n",
      "classification report :\n",
      "               precision    recall  f1-score   support\n",
      "\n",
      "           0       1.00      0.87      0.93        45\n",
      "           1       0.92      1.00      0.96        71\n",
      "\n",
      "    accuracy                           0.95       116\n",
      "   macro avg       0.96      0.93      0.94       116\n",
      "weighted avg       0.95      0.95      0.95       116\n",
      "\n",
      "[[39  6]\n",
      " [ 0 71]]\n"
     ]
    }
   ],
   "source": [
    "#=====Data Reading=====#\n",
    "dir_path = os.path.dirname(os.path.abspath(\"__file__\"))\n",
    "df = pd.read_csv(dir_path + '/ionosphere.data', header = None)\n",
    "\n",
    "#=====Data Processing=====#\n",
    "# Recategorize the classification labels into a binary classifier\n",
    "categ = {\"g\" : 1, \"b\" : 0}\n",
    "df[34] = [categ[item] for item in df[34]]\n",
    "labels = df[34]\n",
    "inputs = df.drop([34],axis=1)\n",
    "\n",
    "# Seperate data into a training/test set\n",
    "input_train, input_test, output_train, output_test = train_test_split(inputs, labels, test_size=0.33, random_state=42)\n",
    "\n",
    "#Class Balancing\n",
    "sm = SMOTE(random_state = 27, sampling_strategy = 1.0)\n",
    "input_train_res, output_train_res = sm.fit_sample(input_train, output_train.ravel())\n",
    "\n",
    "#=====Machine Learning Architecture=====#\n",
    "model = RandomForestClassifier(n_estimators=200,criterion=\"entropy\")\n",
    "hist = model.fit(input_train_res,output_train_res)\n",
    "\n",
    "#=====Validation of ML Model=====#\n",
    "accuracies = cross_val_score(estimator = model, X = input_train, y = output_train, cv = 10, n_jobs = -1)\n",
    "mean = accuracies.mean()\n",
    "variance = accuracies.std()\n",
    "maxacc= accuracies.max()\n",
    "minacc=accuracies.min()\n",
    "print(\"\\nAccuracy mean: \"+ str(mean))\n",
    "print(\"Accuracy variance: \"+ str(variance))\n",
    "print(\"Accuracy max: \"+ str(maxacc))\n",
    "print(\"Accuracy min: \"+ str(minacc))\n",
    "\n",
    "#=====Analysis of ML Model=====#\n",
    "acc=0.0\n",
    "for i in range(25):\n",
    "    predictions = model.predict(input_test)\n",
    "    acc=acc+accuracy_score(output_test, predictions)\n",
    "print (\"\\naccuracy_score :\",acc/25)\n",
    "    \n",
    "# Skill Score Matrix\n",
    "print (\"\\nclassification report :\\n\",(classification_report(output_test, predictions)))\n",
    "#Confusion Matrix\n",
    "print(confusion_matrix(output_test,predictions))\n"
   ]
  },
  {
   "cell_type": "markdown",
   "metadata": {},
   "source": [
    "# KNN"
   ]
  },
  {
   "cell_type": "code",
   "execution_count": 4,
   "metadata": {
    "ExecuteTime": {
     "end_time": "2020-09-30T13:39:51.481635Z",
     "start_time": "2020-09-30T13:39:50.346373Z"
    }
   },
   "outputs": [
    {
     "name": "stdout",
     "output_type": "stream",
     "text": [
      "\n",
      "Accuracy mean: 0.8219202898550725\n",
      "Accuracy variance: 0.05706406716117055\n",
      "Accuracy max: 0.9130434782608695\n",
      "Accuracy min: 0.7083333333333334\n",
      "\n",
      "accuracy_score : 0.8879310344827583\n",
      "\n",
      "classification report :\n",
      "               precision    recall  f1-score   support\n",
      "\n",
      "           0       1.00      0.71      0.83        45\n",
      "           1       0.85      1.00      0.92        71\n",
      "\n",
      "    accuracy                           0.89       116\n",
      "   macro avg       0.92      0.86      0.87       116\n",
      "weighted avg       0.91      0.89      0.88       116\n",
      "\n",
      "[[32 13]\n",
      " [ 0 71]]\n"
     ]
    }
   ],
   "source": [
    "#=====Data Reading=====#\n",
    "dir_path = os.path.dirname(os.path.abspath(\"__file__\"))\n",
    "df = pd.read_csv(dir_path + '/ionosphere.data', header = None)\n",
    "\n",
    "#=====Data Processing=====#\n",
    "# Recategorize the classification labels into a binary classifier\n",
    "categ = {\"g\" : 1, \"b\" : 0}\n",
    "df[34] = [categ[item] for item in df[34]]\n",
    "labels = df[34]\n",
    "inputs = df.drop([34],axis=1)\n",
    "\n",
    "# Seperate data into a training/test set\n",
    "input_train, input_test, output_train, output_test = train_test_split(inputs, labels, test_size=0.33, random_state=42)\n",
    "\n",
    "#Class Balancing\n",
    "sm = SMOTE(random_state = 27, sampling_strategy = 1.0)\n",
    "input_train_res, output_train_res = sm.fit_sample(input_train, output_train.ravel())\n",
    "\n",
    "#=====Machine Learning Architecture=====#\n",
    "model = KNeighborsClassifier()\n",
    "hist = model.fit(input_train_res,output_train_res)\n",
    "\n",
    "#=====Validation of ML Model=====#\n",
    "accuracies = cross_val_score(estimator = model, X = input_train, y = output_train, cv = 10, n_jobs = -1)\n",
    "mean = accuracies.mean()\n",
    "variance = accuracies.std()\n",
    "maxacc= accuracies.max()\n",
    "minacc=accuracies.min()\n",
    "print(\"\\nAccuracy mean: \"+ str(mean))\n",
    "print(\"Accuracy variance: \"+ str(variance))\n",
    "print(\"Accuracy max: \"+ str(maxacc))\n",
    "print(\"Accuracy min: \"+ str(minacc))\n",
    "\n",
    "#=====Analysis of ML Model=====#\n",
    "acc=0.0\n",
    "for i in range(25):\n",
    "    predictions = model.predict(input_test)\n",
    "    acc=acc+accuracy_score(output_test, predictions)\n",
    "print (\"\\naccuracy_score :\",acc/25)\n",
    "    \n",
    "# Skill Score Matrix\n",
    "print (\"\\nclassification report :\\n\",(classification_report(output_test, predictions)))\n",
    "#Confusion Matrix\n",
    "print(confusion_matrix(output_test,predictions))\n"
   ]
  },
  {
   "cell_type": "markdown",
   "metadata": {},
   "source": [
    "# DTC"
   ]
  },
  {
   "cell_type": "code",
   "execution_count": 5,
   "metadata": {
    "ExecuteTime": {
     "end_time": "2020-09-30T13:40:41.536469Z",
     "start_time": "2020-09-30T13:40:41.035058Z"
    }
   },
   "outputs": [
    {
     "name": "stdout",
     "output_type": "stream",
     "text": [
      "\n",
      "Accuracy mean: 0.8384057971014492\n",
      "Accuracy variance: 0.07701640727876186\n",
      "Accuracy max: 0.9583333333333334\n",
      "Accuracy min: 0.7083333333333334\n",
      "\n",
      "accuracy_score : 0.8965517241379313\n",
      "\n",
      "classification report :\n",
      "               precision    recall  f1-score   support\n",
      "\n",
      "           0       0.85      0.89      0.87        45\n",
      "           1       0.93      0.90      0.91        71\n",
      "\n",
      "    accuracy                           0.90       116\n",
      "   macro avg       0.89      0.90      0.89       116\n",
      "weighted avg       0.90      0.90      0.90       116\n",
      "\n",
      "[[40  5]\n",
      " [ 7 64]]\n"
     ]
    }
   ],
   "source": [
    "#=====Data Reading=====#\n",
    "dir_path = os.path.dirname(os.path.abspath(\"__file__\"))\n",
    "df = pd.read_csv(dir_path + '/ionosphere.data', header = None)\n",
    "\n",
    "#=====Data Processing=====#\n",
    "# Recategorize the classification labels into a binary classifier\n",
    "categ = {\"g\" : 1, \"b\" : 0}\n",
    "df[34] = [categ[item] for item in df[34]]\n",
    "labels = df[34]\n",
    "inputs = df.drop([34],axis=1)\n",
    "\n",
    "# Seperate data into a training/test set\n",
    "input_train, input_test, output_train, output_test = train_test_split(inputs, labels, test_size=0.33, random_state=42)\n",
    "\n",
    "#Class Balancing\n",
    "sm = SMOTE(random_state = 27, sampling_strategy = 1.0)\n",
    "input_train_res, output_train_res = sm.fit_sample(input_train, output_train.ravel())\n",
    "\n",
    "#=====Machine Learning Architecture=====#\n",
    "model = DecisionTreeClassifier()\n",
    "hist = model.fit(input_train_res,output_train_res)\n",
    "\n",
    "#=====Validation of ML Model=====#\n",
    "accuracies = cross_val_score(estimator = model, X = input_train, y = output_train, cv = 10, n_jobs = -1)\n",
    "mean = accuracies.mean()\n",
    "variance = accuracies.std()\n",
    "maxacc= accuracies.max()\n",
    "minacc=accuracies.min()\n",
    "print(\"\\nAccuracy mean: \"+ str(mean))\n",
    "print(\"Accuracy variance: \"+ str(variance))\n",
    "print(\"Accuracy max: \"+ str(maxacc))\n",
    "print(\"Accuracy min: \"+ str(minacc))\n",
    "\n",
    "#=====Analysis of ML Model=====#\n",
    "acc=0.0\n",
    "for i in range(25):\n",
    "    predictions = model.predict(input_test)\n",
    "    acc=acc+accuracy_score(output_test, predictions)\n",
    "print (\"\\naccuracy_score :\",acc/25)\n",
    "    \n",
    "# Skill Score Matrix\n",
    "print (\"\\nclassification report :\\n\",(classification_report(output_test, predictions)))\n",
    "#Confusion Matrix\n",
    "print(confusion_matrix(output_test,predictions))\n"
   ]
  }
 ],
 "metadata": {
  "kernelspec": {
   "display_name": "Python 3",
   "language": "python",
   "name": "python3"
  },
  "language_info": {
   "codemirror_mode": {
    "name": "ipython",
    "version": 3
   },
   "file_extension": ".py",
   "mimetype": "text/x-python",
   "name": "python",
   "nbconvert_exporter": "python",
   "pygments_lexer": "ipython3",
   "version": "3.8.2"
  }
 },
 "nbformat": 4,
 "nbformat_minor": 4
}
